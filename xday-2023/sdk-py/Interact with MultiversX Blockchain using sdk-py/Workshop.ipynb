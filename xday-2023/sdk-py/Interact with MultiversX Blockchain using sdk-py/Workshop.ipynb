{
 "cells": [
  {
   "cell_type": "markdown",
   "metadata": {},
   "source": [
    "## SDK-PY Workshop\n",
    "\n",
    "Today we are going to have a quick lesson on interacting with the MultiversX blockchain using Python.\n",
    "\n",
    "We will learn to interact with the Network through a so-called network provider, and we will create, sign and broadcast transactions (including Smart Contract calls), query accounts state (including Smart Contract queries), and more.\n",
    "\n",
    "First, let us meet the libraries we will be using for interacting with MultiversX. They are:\n",
    "\n",
    "- [@multiversx/sdk-py-core](https://github.com/multiversx/mx-sdk-py-core)\n",
    "- [@multiversx/sdk-py-wallet](https://github.com/multiversx/mx-sdk-py-wallet)\n",
    "- [@multiversx/sdk-py-network-providers](https://github.com/multiversx/mx-sdk-py-network-providers)\n",
    "\n",
    "Today we are going to:\n",
    "\n",
    "- Create, sign and broadcast EGLD and ESDT Transfers\n",
    "- Query account information\n",
    "- Interact with Smart Contracts\n",
    "\n",
    "We'll do all these things using a Jupiter Notebook.\n",
    "\n",
    "For our purposes, the application will interact with the Devnet. We are going to use the public MultiversX API as our entrypoint to the Network.\n",
    "\n",
    "I'll use a wallet that contains some tokens so we can send transactions, but I'll show you how to create a new wallet, in case you don't have one already."
   ]
  },
  {
   "cell_type": "markdown",
   "metadata": {},
   "source": [
    "## Creating Wallets"
   ]
  },
  {
   "cell_type": "markdown",
   "metadata": {},
   "source": [
    "### Generating the mnemonic"
   ]
  },
  {
   "cell_type": "code",
   "execution_count": null,
   "metadata": {},
   "outputs": [
    {
     "ename": "",
     "evalue": "",
     "output_type": "error",
     "traceback": [
      "\u001b[1;31mRunning cells with '/bin/python3' requires the ipykernel package.\n",
      "\u001b[1;31mRun the following command to install 'ipykernel' into the Python environment. \n",
      "\u001b[1;31mCommand: '/bin/python3 -m pip install ipykernel -U --user --force-reinstall'"
     ]
    }
   ],
   "source": [
    "from multiversx_sdk_wallet import Mnemonic\n",
    "\n",
    "mnemonic = Mnemonic.generate()\n",
    "words = mnemonic.get_words()\n",
    "\n",
    "print(words)"
   ]
  },
  {
   "cell_type": "markdown",
   "metadata": {},
   "source": [
    "This is just an example, you **SHOULD NOT** display or share your mnemonic."
   ]
  },
  {
   "cell_type": "markdown",
   "metadata": {},
   "source": [
    "Given the mnemonic, we can generate keypairs:"
   ]
  },
  {
   "cell_type": "code",
   "execution_count": null,
   "metadata": {},
   "outputs": [],
   "source": [
    "secret_key = mnemonic.derive_key(0)\n",
    "public_key = secret_key.generate_public_key()\n",
    "\n",
    "print(\"Secret key:\", secret_key.hex())\n",
    "print(\"Public key:\", public_key.hex())"
   ]
  },
  {
   "cell_type": "markdown",
   "metadata": {},
   "source": [
    "Using the keypair we can save it as a wallet. There are different wallet formats so we'll save it a PEM wallet. This is not recommended as it is not very safe, but it's good for testing as it is very easy to use."
   ]
  },
  {
   "cell_type": "code",
   "execution_count": null,
   "metadata": {},
   "outputs": [],
   "source": [
    "from pathlib import Path\n",
    "\n",
    "from multiversx_sdk_core import Address\n",
    "from multiversx_sdk_wallet import UserPEM\n",
    "\n",
    "label = Address(public_key.buffer, \"erd\").bech32()\n",
    "pem = UserPEM(label=label, secret_key=secret_key)\n",
    "pem.save(Path(\"./output/wallet.pem\"))"
   ]
  },
  {
   "cell_type": "markdown",
   "metadata": {},
   "source": [
    "## EGLD Transfers"
   ]
  },
  {
   "cell_type": "markdown",
   "metadata": {},
   "source": [
    "### Fetching the nonce\n",
    "\n",
    "We fetch the nonce using the network providers. We are using the MultiversX Api, so we are going to pass it the api url."
   ]
  },
  {
   "cell_type": "code",
   "execution_count": null,
   "metadata": {},
   "outputs": [],
   "source": [
    "from multiversx_sdk_network_providers import ApiNetworkProvider\n",
    "\n",
    "api = ApiNetworkProvider(\"https://devnet-api.multiversx.com\")\n",
    "sender = Address.from_bech32(\"erd1seev64tevr927nm0hg7ux9zh94khcj0pxs3ckmnaswglfn0s5w4sgj94zr\")\n",
    "\n",
    "nonce = api.get_account(sender).nonce\n",
    "\n",
    "print(nonce)"
   ]
  },
  {
   "cell_type": "markdown",
   "metadata": {},
   "source": [
    "### Crafting the move balance transaction\n",
    "\n",
    "After fetching the nonce of the sender we can craft our transaction. Keep in mind that there's an ongoing effort to standardize the SDK's so they'll become consistent across all programming languages. That being said, how we craft the transaction might change in the future, but in this workshop we'll use the libraries as they are now."
   ]
  },
  {
   "cell_type": "code",
   "execution_count": null,
   "metadata": {},
   "outputs": [],
   "source": [
    "from multiversx_sdk_core import Address, TokenPayment, Transaction\n",
    "\n",
    "receiver = Address.from_bech32(\"erd1qyu5wthldzr8wx5c9ucg8kjagg0jfs53s8nr3zpz3hypefsdd8ssycr6th\")\n",
    "\n",
    "tx = Transaction(\n",
    "    nonce=nonce,\n",
    "    sender=sender,\n",
    "    receiver=receiver,\n",
    "    value=TokenPayment.egld_from_amount(\"1.0\"),\n",
    "    gas_limit=50000,\n",
    "    chain_id=\"D\"\n",
    ")\n",
    "\n",
    "print(tx.to_dictionary())"
   ]
  },
  {
   "cell_type": "markdown",
   "metadata": {},
   "source": [
    "### Signing the transaction\n",
    "\n",
    "We will crete a signer from the PEM file of our acount."
   ]
  },
  {
   "cell_type": "code",
   "execution_count": null,
   "metadata": {},
   "outputs": [],
   "source": [
    "from multiversx_sdk_wallet import UserSigner\n",
    "\n",
    "signer = UserSigner.from_pem_file(Path(\"./output/workshop.pem\"))\n",
    "\n",
    "tx.signature = signer.sign(tx)\n",
    "print(\"Signature\", tx.signature.hex())"
   ]
  },
  {
   "cell_type": "markdown",
   "metadata": {},
   "source": [
    "### Broadcasting the transaction\n",
    "\n",
    "After our transaction is prepared and signed, it's ready to be broadcasted on the network."
   ]
  },
  {
   "cell_type": "code",
   "execution_count": null,
   "metadata": {},
   "outputs": [],
   "source": [
    "hash = api.send_transaction(tx)\n",
    "print(\"Transaction hash:\", hash)"
   ]
  },
  {
   "cell_type": "markdown",
   "metadata": {},
   "source": [
    "## ESDT Transfers\n",
    "\n",
    "For sending ESDT Tokens we should take the same steps as we did for transfering EGLD. We fetch the account nonce, we create the transaction, we sign it and then we broadcast it.\n",
    "\n",
    "When sending ESDT Tokens we set the value of the transaction to `0`. We also need to format the data field in a certain way. You can see how the data field should look [here](https://docs.multiversx.com/tokens/esdt-tokens#transfers), but we don't need to worry about this since we have a builder that we'll be using and that will take care of formatting the field for us."
   ]
  },
  {
   "cell_type": "markdown",
   "metadata": {},
   "source": [
    "Let's fetch the nonce again. Because we've broadcasted the above transaction the nonce has incremented."
   ]
  },
  {
   "cell_type": "code",
   "execution_count": null,
   "metadata": {},
   "outputs": [],
   "source": [
    "nonce = api.get_account(sender).nonce\n",
    "\n",
    "print(nonce)"
   ]
  },
  {
   "cell_type": "markdown",
   "metadata": {},
   "source": [
    "Before instantiating the Transaction Builder we need to create a configuration object."
   ]
  },
  {
   "cell_type": "code",
   "execution_count": null,
   "metadata": {},
   "outputs": [],
   "source": [
    "from multiversx_sdk_core.transaction_builders import DefaultTransactionBuildersConfiguration\n",
    "\n",
    "config = DefaultTransactionBuildersConfiguration(chain_id=\"D\")"
   ]
  },
  {
   "cell_type": "markdown",
   "metadata": {},
   "source": [
    "The **transaction builder** is parametrized at instantiation, and the transaction is obtained by invoking the `build()` method:"
   ]
  },
  {
   "cell_type": "code",
   "execution_count": null,
   "metadata": {},
   "outputs": [],
   "source": [
    "from multiversx_sdk_core.transaction_builders import ESDTTransferBuilder\n",
    "\n",
    "payment = TokenPayment.fungible_from_amount(\"WSTKN-b7792b\", \"100.00\", 6)\n",
    "\n",
    "builder = ESDTTransferBuilder(\n",
    "    config=config,\n",
    "    sender=sender,\n",
    "    receiver=receiver,\n",
    "    payment=payment,\n",
    "    nonce=nonce,\n",
    "    value=0\n",
    ")\n",
    "\n",
    "tx = builder.build()\n",
    "print(\"Transaction:\", tx.to_dictionary())\n",
    "print(\"Transaction data:\", tx.data)"
   ]
  },
  {
   "cell_type": "markdown",
   "metadata": {},
   "source": [
    "After the transaction is crafted it's time to sign it."
   ]
  },
  {
   "cell_type": "code",
   "execution_count": null,
   "metadata": {},
   "outputs": [],
   "source": [
    "tx.signature = signer.sign(tx)\n",
    "print(\"Signature\", tx.signature.hex())"
   ]
  },
  {
   "cell_type": "markdown",
   "metadata": {},
   "source": [
    "The only step left now is to broadcast the transaction:"
   ]
  },
  {
   "cell_type": "code",
   "execution_count": null,
   "metadata": {},
   "outputs": [],
   "source": [
    "hash = api.send_transaction(tx)\n",
    "print(\"Transaction hash:\", hash)"
   ]
  },
  {
   "cell_type": "markdown",
   "metadata": {},
   "source": [
    "## Contract deployment and interactions"
   ]
  },
  {
   "cell_type": "markdown",
   "metadata": {},
   "source": [
    "### Contract deployment\n",
    "\n",
    "In order for us to interact with our smart contract it's necessary to deploy it onto the network. For the sake of our examples, we will proceed with deploying one ourselves.\n",
    "\n",
    "Before deploying the contract make sure you have built the latest version.\n",
    "\n",
    "For creating the deploy transaction we will use a `Contract Deployment Builder`."
   ]
  },
  {
   "cell_type": "code",
   "execution_count": null,
   "metadata": {},
   "outputs": [],
   "source": [
    "from multiversx_sdk_core import CodeMetadata\n",
    "from multiversx_sdk_core.transaction_builders import ContractDeploymentBuilder\n",
    "\n",
    "metadata = CodeMetadata(upgradeable=True, readable=True, payable=True, payable_by_contract=True)\n",
    "\n",
    "builder = ContractDeploymentBuilder(\n",
    "    config,\n",
    "    owner=sender,\n",
    "    deploy_arguments=[0],\n",
    "    code_metadata=metadata,\n",
    "    code=Path(\"./contracts/adder.wasm\").read_bytes(),\n",
    "    gas_limit=10000000\n",
    ")\n",
    "\n",
    "tx = builder.build()\n",
    "print(\"Transaction:\", tx.to_dictionary())\n",
    "print(\"Transaction data:\", tx.data)"
   ]
  },
  {
   "cell_type": "markdown",
   "metadata": {},
   "source": [
    "Of course you need to set the correct nonce and sign it and after that the transaction is ready to be broadcasted."
   ]
  },
  {
   "cell_type": "markdown",
   "metadata": {},
   "source": [
    "### Contract call\n",
    "\n",
    "We can create a transaction that invokes a smart contract function:"
   ]
  },
  {
   "cell_type": "code",
   "execution_count": null,
   "metadata": {},
   "outputs": [],
   "source": [
    "from multiversx_sdk_core.transaction_builders import ContractCallBuilder\n",
    "\n",
    "contract_address = Address.from_bech32(\"erd1qqqqqqqqqqqqqpgq9ntwtuj3max5qlgmpvvuxknmaay5z9fdd8ss565vz6\")\n",
    "\n",
    "builder = ContractCallBuilder(\n",
    "    config,\n",
    "    contract=contract_address,\n",
    "    function_name=\"add\",\n",
    "    caller=sender,\n",
    "    call_arguments=[5],\n",
    "    gas_limit=10000000\n",
    ")\n",
    "\n",
    "tx = builder.build()\n",
    "print(\"Transaction:\", tx.to_dictionary())\n",
    "print(\"Transaction data:\", tx.data)"
   ]
  },
  {
   "cell_type": "markdown",
   "metadata": {},
   "source": [
    "### Contract queries\n",
    "\n",
    "For querying smart contracts we only need to use the network providers, we do not need to craft any transactions."
   ]
  },
  {
   "cell_type": "code",
   "execution_count": 28,
   "metadata": {},
   "outputs": [
    {
     "name": "stdout",
     "output_type": "stream",
     "text": [
      "Return code: ok\n",
      "Return data: ['']\n"
     ]
    }
   ],
   "source": [
    "from multiversx_sdk_core import ContractQueryBuilder\n",
    "from multiversx_sdk_network_providers import ApiNetworkProvider\n",
    "\n",
    "contract = Address.from_bech32(\"erd1qqqqqqqqqqqqqpgq9ntwtuj3max5qlgmpvvuxknmaay5z9fdd8ss565vz6\")\n",
    "\n",
    "builder = ContractQueryBuilder(\n",
    "    contract=contract,\n",
    "    function=\"getSum\",\n",
    "    call_arguments=[],\n",
    "    caller=sender\n",
    ")\n",
    "\n",
    "query = builder.build()\n",
    "\n",
    "network_provider = ApiNetworkProvider(\"https://devnet-api.multiversx.com\")\n",
    "response = network_provider.query_contract(query)\n",
    "\n",
    "print(\"Return code:\", response.return_code)\n",
    "print(\"Return data:\", response.return_data)"
   ]
  },
  {
   "cell_type": "markdown",
   "metadata": {},
   "source": [
    "### Contract upgrade\n",
    "\n",
    "You can also upgrade your contract. Replace the old code with new code."
   ]
  },
  {
   "cell_type": "code",
   "execution_count": 29,
   "metadata": {},
   "outputs": [
    {
     "name": "stdout",
     "output_type": "stream",
     "text": [
      "Transaction: OrderedDict([('nonce', 0), ('value', '0'), ('receiver', 'erd1qqqqqqqqqqqqqpgq9ntwtuj3max5qlgmpvvuxknmaay5z9fdd8ss565vz6'), ('sender', 'erd1seev64tevr927nm0hg7ux9zh94khcj0pxs3ckmnaswglfn0s5w4sgj94zr'), ('gasPrice', 1000000000), ('gasLimit', 10000000), ('data', 'dXBncmFkZUNvbnRyYWN0QDAwNjE3MzZkMDEwMDAwMDAwMTI5MDg2MDAwMDA2MDAwMDE3ZjYwMDI3ZjdmMDE3ZjYwMDI3ZjdmMDA2MDAxN2YwMDYwMDM3ZjdmN2YwMTdmNjAwMzdmN2Y3ZjAwNjAwMTdmMDE3ZjAyOTAwMjBiMDM2NTZlNzYxOTYyNjk2NzQ5NmU3NDQ3NjU3NDU1NmU3MzY5Njc2ZTY1NjQ0MTcyNjc3NTZkNjU2ZTc0MDAwMzAzNjU2ZTc2MGY2NzY1NzQ0ZTc1NmQ0MTcyNjc3NTZkNjU2ZTc0NzMwMDAxMDM2NTZlNzYwYjczNjk2NzZlNjE2YzQ1NzI3MjZmNzIwMDAzMDM2NTZlNzYxMjZkNDI3NTY2NjY2NTcyNTM3NDZmNzI2MTY3NjU0YzZmNjE2NDAwMDIwMzY1NmU3NjE3NmQ0Mjc1NjY2NjY1NzI1NDZmNDI2OTY3NDk2ZTc0NTU2ZTczNjk2NzZlNjU2NDAwMDIwMzY1NmU3NjE5NmQ0Mjc1NjY2NjY1NzI0NjcyNmY2ZDQyNjk2NzQ5NmU3NDU1NmU3MzY5Njc2ZTY1NjQwMDAyMDM2NTZlNzYxMzZkNDI3NTY2NjY2NTcyNTM3NDZmNzI2MTY3NjU1Mzc0NmY3MjY1MDAwMjAzNjU2ZTc2MGY2ZDQyNzU2NjY2NjU3MjUzNjU3NDQyNzk3NDY1NzMwMDA1MDM2NTZlNzYwZTYzNjg2NTYzNmI0ZTZmNTA2MTc5NmQ2NTZlNzQwMDAwMDM2NTZlNzYxNDYyNjk2NzQ5NmU3NDQ2Njk2ZTY5NzM2ODU1NmU3MzY5Njc2ZTY1NjQwMDA0MDM2NTZlNzYwOTYyNjk2NzQ5NmU3NDQxNjQ2NDAwMDYwMzBiMGEwMTAxMDQwNzAzMDEwMDAwMDAwMDA1MDMwMTAwMDMwNjBmMDI3ZjAwNDFhMDgwMDgwYjdmMDA0MWEwODAwODBiMDc0NjA3MDY2ZDY1NmQ2ZjcyNzkwMjAwMDQ2OTZlNjk3NDAwMTEwNjY3NjU3NDUzNzU2ZDAwMTIwMzYxNjQ2NDAwMTMwODYzNjE2YzZjNDI2MTYzNmIwMDE0MGE1ZjVmNjQ2MTc0NjE1ZjY1NmU2NDAzMDAwYjVmNWY2ODY1NjE3MDVmNjI2MTczNjUwMzAxMGFjYTAxMGEwZTAxMDE3ZjQxMDAxMDBjMjIwMDEwMDAyMDAwMGIxOTAxMDE3ZjQxOWM4MDA4NDE5YzgwMDgyODAyMDA0MTAxNmIyMjAwMzYwMjAwMjAwMDBiMTQwMDEwMDEyMDAwNDYwNDQwMGYwYjQxODA4MDA4NDExOTEwMDIwMDBiMTYwMDIwMDAxMDBjMjIwMDEwMDMxYTIwMDAxMDBjMjIwMDEwMDQxYTIwMDAwYjE0MDEwMTdmMTAwYzIyMDIyMDAxMTAwNTFhMjAwMDIwMDIxMDA2MWEwYjEzMDEwMTdmMTAwYzIyMDA0MTk5ODAwODQxMDMxMDA3MWEyMDAwMGIxNDAxMDE3ZjEwMDg0MTAxMTAwZDEwMGIyMTAwMTAxMDIwMDAxMDBmMGIwZTAwMTAwODQxMDAxMDBkMTAxMDEwMGUxMDA5MGIyMjAxMDM3ZjEwMDg0MTAxMTAwZDEwMGIyMTAxMTAxMDIyMDIxMDBlMjIwMDIwMDAyMDAxMTAwYTIwMDIyMDAwMTAwZjBiMDMwMDAxMGIwYjJmMDIwMDQxODA4MDA4MGIxYzc3NzI2ZjZlNjcyMDZlNzU2ZDYyNjU3MjIwNmY2NjIwNjE3MjY3NzU2ZDY1NmU3NDczNzM3NTZkMDA0MTljODAwODBiMDQ5Y2ZmZmZmZkAwNTA2QA=='), ('chainID', 'D'), ('version', 2), ('signature', '')])\n",
      "Transaction data: upgradeContract@0061736d010000000129086000006000017f60027f7f017f60027f7f0060017f0060037f7f7f017f60037f7f7f0060017f017f0290020b03656e7619626967496e74476574556e7369676e6564417267756d656e74000303656e760f6765744e756d417267756d656e7473000103656e760b7369676e616c4572726f72000303656e76126d42756666657253746f726167654c6f6164000203656e76176d427566666572546f426967496e74556e7369676e6564000203656e76196d42756666657246726f6d426967496e74556e7369676e6564000203656e76136d42756666657253746f7261676553746f7265000203656e760f6d4275666665725365744279746573000503656e760e636865636b4e6f5061796d656e74000003656e7614626967496e7446696e697368556e7369676e6564000403656e7609626967496e744164640006030b0a010104070301000000000503010003060f027f0041a080080b7f0041a080080b074607066d656d6f7279020004696e697400110667657453756d00120361646400130863616c6c4261636b00140a5f5f646174615f656e6403000b5f5f686561705f6261736503010aca010a0e01017f4100100c2200100020000b1901017f419c8008419c800828020041016b220036020020000b1400100120004604400f0b4180800841191002000b16002000100c220010031a2000100c220010041a20000b1401017f100c2202200110051a2000200210061a0b1301017f100c220041998008410310071a20000b1401017f10084101100d100b210010102000100f0b0e0010084100100d1010100e10090b2201037f10084101100d100b210110102202100e220020002001100a20022000100f0b0300010b0b2f0200418080080b1c77726f6e67206e756d626572206f6620617267756d656e747373756d00419c80080b049cffffff@0506@\n"
     ]
    }
   ],
   "source": [
    "from multiversx_sdk_core.transaction_builders import ContractUpgradeBuilder\n",
    "\n",
    "contract_address = Address.from_bech32(\"erd1qqqqqqqqqqqqqpgq9ntwtuj3max5qlgmpvvuxknmaay5z9fdd8ss565vz6\")\n",
    "metadata = CodeMetadata(upgradeable=True, readable=True, payable=True, payable_by_contract=True)\n",
    "\n",
    "builder = ContractUpgradeBuilder(\n",
    "    config,\n",
    "    contract=contract_address,\n",
    "    owner=sender,\n",
    "    upgrade_arguments=[0],\n",
    "    code_metadata=metadata,\n",
    "    code=Path(\"./contracts/adder.wasm\").read_bytes(),\n",
    "    gas_limit=10000000\n",
    ")\n",
    "\n",
    "tx = builder.build()\n",
    "print(\"Transaction:\", tx.to_dictionary())\n",
    "print(\"Transaction data:\", tx.data)"
   ]
  },
  {
   "cell_type": "markdown",
   "metadata": {},
   "source": [
    "Remember to set the correct nonce and sign the transactions if you want to broadcast them."
   ]
  },
  {
   "cell_type": "markdown",
   "metadata": {},
   "source": [
    "That's all for today!\n",
    "\n",
    "We've reached the end of the tutorial.\n",
    "\n",
    "We've learned to interact with the network using a network provider, to create, sign and broadcast transactions, to query account state, and to deploy and interact with smart contracts.\n",
    "\n",
    "Thank you for listening!\n",
    "\n",
    "Don't forget to check out our official documentation [here](https://docs.multiversx.com) and the workshops repository."
   ]
  }
 ],
 "metadata": {
  "kernelspec": {
   "display_name": "venv",
   "language": "python",
   "name": "python3"
  },
  "language_info": {
   "codemirror_mode": {
    "name": "ipython",
    "version": 3
   },
   "file_extension": ".py",
   "mimetype": "text/x-python",
   "name": "python",
   "nbconvert_exporter": "python",
   "pygments_lexer": "ipython3",
   "version": "3.11.4"
  },
  "orig_nbformat": 4
 },
 "nbformat": 4,
 "nbformat_minor": 2
}
